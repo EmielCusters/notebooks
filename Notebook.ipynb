{
    "cells": [
        {
            "cell_type": "markdown",
            "metadata": {},
            "source": "# Steve Wijler Results"
        },
        {
            "cell_type": "code",
            "execution_count": 1,
            "metadata": {},
            "outputs": [
                {
                    "data": {
                        "text/html": "<div>\n<style scoped>\n    .dataframe tbody tr th:only-of-type {\n        vertical-align: middle;\n    }\n\n    .dataframe tbody tr th {\n        vertical-align: top;\n    }\n\n    .dataframe thead th {\n        text-align: right;\n    }\n</style>\n<table border=\"1\" class=\"dataframe\">\n  <thead>\n    <tr style=\"text-align: right;\">\n      <th></th>\n      <th>Day</th>\n      <th>Average ASL</th>\n    </tr>\n  </thead>\n  <tbody>\n    <tr>\n      <th>0</th>\n      <td>42106</td>\n      <td>78.5</td>\n    </tr>\n    <tr>\n      <th>1</th>\n      <td>42141</td>\n      <td>82.9</td>\n    </tr>\n    <tr>\n      <th>2</th>\n      <td>42155</td>\n      <td>86.0</td>\n    </tr>\n    <tr>\n      <th>3</th>\n      <td>42176</td>\n      <td>81.7</td>\n    </tr>\n    <tr>\n      <th>4</th>\n      <td>42183</td>\n      <td>86.8</td>\n    </tr>\n  </tbody>\n</table>\n</div>",
                        "text/plain": "     Day  Average ASL\n0  42106         78.5\n1  42141         82.9\n2  42155         86.0\n3  42176         81.7\n4  42183         86.8"
                    },
                    "execution_count": 1,
                    "metadata": {},
                    "output_type": "execute_result"
                }
            ],
            "source": "# The code was removed by Watson Studio for sharing."
        },
        {
            "cell_type": "code",
            "execution_count": null,
            "metadata": {},
            "outputs": [],
            "source": ""
        }
    ],
    "metadata": {
        "kernelspec": {
            "display_name": "Python 3.9",
            "language": "python",
            "name": "python3"
        },
        "language_info": {
            "codemirror_mode": {
                "name": "ipython",
                "version": 3
            },
            "file_extension": ".py",
            "mimetype": "text/x-python",
            "name": "python",
            "nbconvert_exporter": "python",
            "pygments_lexer": "ipython3",
            "version": "3.9.7"
        }
    },
    "nbformat": 4,
    "nbformat_minor": 1
}